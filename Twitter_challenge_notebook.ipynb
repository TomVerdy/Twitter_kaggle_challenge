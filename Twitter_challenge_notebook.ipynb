{
 "cells": [
  {
   "cell_type": "markdown",
   "id": "6204c185",
   "metadata": {},
   "source": [
    "# Setup"
   ]
  },
  {
   "cell_type": "code",
   "execution_count": 4,
   "id": "ee6b5522",
   "metadata": {
    "ExecuteTime": {
     "end_time": "2023-01-11T10:08:34.351715Z",
     "start_time": "2023-01-11T10:08:31.871915Z"
    }
   },
   "outputs": [
    {
     "name": "stderr",
     "output_type": "stream",
     "text": [
      "2023-01-11 11:08:31.878284: I tensorflow/core/platform/cpu_feature_guard.cc:193] This TensorFlow binary is optimized with oneAPI Deep Neural Network Library (oneDNN) to use the following CPU instructions in performance-critical operations:  AVX2 FMA\n",
      "To enable them in other operations, rebuild TensorFlow with the appropriate compiler flags.\n",
      "2023-01-11 11:08:32.014401: W tensorflow/stream_executor/platform/default/dso_loader.cc:64] Could not load dynamic library 'libcudart.so.11.0'; dlerror: libcudart.so.11.0: cannot open shared object file: No such file or directory\n",
      "2023-01-11 11:08:32.014424: I tensorflow/stream_executor/cuda/cudart_stub.cc:29] Ignore above cudart dlerror if you do not have a GPU set up on your machine.\n",
      "2023-01-11 11:08:32.047231: E tensorflow/stream_executor/cuda/cuda_blas.cc:2981] Unable to register cuBLAS factory: Attempting to register factory for plugin cuBLAS when one has already been registered\n",
      "2023-01-11 11:08:32.797788: W tensorflow/stream_executor/platform/default/dso_loader.cc:64] Could not load dynamic library 'libnvinfer.so.7'; dlerror: libnvinfer.so.7: cannot open shared object file: No such file or directory\n",
      "2023-01-11 11:08:32.797850: W tensorflow/stream_executor/platform/default/dso_loader.cc:64] Could not load dynamic library 'libnvinfer_plugin.so.7'; dlerror: libnvinfer_plugin.so.7: cannot open shared object file: No such file or directory\n",
      "2023-01-11 11:08:32.797858: W tensorflow/compiler/tf2tensorrt/utils/py_utils.cc:38] TF-TRT Warning: Cannot dlopen some TensorRT libraries. If you would like to use Nvidia GPU with TensorRT, please make sure the missing libraries mentioned above are installed properly.\n"
     ]
    }
   ],
   "source": [
    "import numpy as np\n",
    "import tensorflow_datasets as tfds\n",
    "from tensorflow.keras.preprocessing.text import text_to_word_sequence\n",
    "from gensim.models import Word2Vec"
   ]
  },
  {
   "cell_type": "code",
   "execution_count": 5,
   "id": "6ce3d54c",
   "metadata": {
    "ExecuteTime": {
     "end_time": "2023-01-11T10:08:34.358474Z",
     "start_time": "2023-01-11T10:08:34.355291Z"
    }
   },
   "outputs": [],
   "source": [
    "import warnings\n",
    "warnings.filterwarnings('ignore')"
   ]
  },
  {
   "cell_type": "code",
   "execution_count": 6,
   "id": "728218aa",
   "metadata": {
    "ExecuteTime": {
     "end_time": "2023-01-11T10:08:34.425818Z",
     "start_time": "2023-01-11T10:08:34.360355Z"
    }
   },
   "outputs": [],
   "source": [
    "import pandas as pd"
   ]
  },
  {
   "cell_type": "code",
   "execution_count": 7,
   "id": "9af334f5",
   "metadata": {
    "ExecuteTime": {
     "end_time": "2023-01-11T10:08:34.611460Z",
     "start_time": "2023-01-11T10:08:34.429309Z"
    }
   },
   "outputs": [
    {
     "name": "stdout",
     "output_type": "stream",
     "text": [
      "/home/verdy/code/TomVerdy/twitter_kaggle_challenge\r\n"
     ]
    }
   ],
   "source": [
    "!pwd"
   ]
  },
  {
   "cell_type": "markdown",
   "id": "e44fc22b",
   "metadata": {},
   "source": [
    "# Aperçu de la data"
   ]
  },
  {
   "cell_type": "code",
   "execution_count": 8,
   "id": "31c1bd9f",
   "metadata": {
    "ExecuteTime": {
     "end_time": "2023-01-11T10:08:35.112941Z",
     "start_time": "2023-01-11T10:08:35.065946Z"
    }
   },
   "outputs": [],
   "source": [
    "data = pd.read_csv(\"Data/train.csv\")"
   ]
  },
  {
   "cell_type": "code",
   "execution_count": 9,
   "id": "b8e84d44",
   "metadata": {
    "ExecuteTime": {
     "end_time": "2023-01-11T10:08:35.360697Z",
     "start_time": "2023-01-11T10:08:35.306407Z"
    }
   },
   "outputs": [
    {
     "data": {
      "text/html": [
       "<div>\n",
       "<style scoped>\n",
       "    .dataframe tbody tr th:only-of-type {\n",
       "        vertical-align: middle;\n",
       "    }\n",
       "\n",
       "    .dataframe tbody tr th {\n",
       "        vertical-align: top;\n",
       "    }\n",
       "\n",
       "    .dataframe thead th {\n",
       "        text-align: right;\n",
       "    }\n",
       "</style>\n",
       "<table border=\"1\" class=\"dataframe\">\n",
       "  <thead>\n",
       "    <tr style=\"text-align: right;\">\n",
       "      <th></th>\n",
       "      <th>id</th>\n",
       "      <th>keyword</th>\n",
       "      <th>location</th>\n",
       "      <th>text</th>\n",
       "      <th>target</th>\n",
       "    </tr>\n",
       "  </thead>\n",
       "  <tbody>\n",
       "    <tr>\n",
       "      <th>0</th>\n",
       "      <td>1</td>\n",
       "      <td>NaN</td>\n",
       "      <td>NaN</td>\n",
       "      <td>Our Deeds are the Reason of this #earthquake M...</td>\n",
       "      <td>1</td>\n",
       "    </tr>\n",
       "    <tr>\n",
       "      <th>1</th>\n",
       "      <td>4</td>\n",
       "      <td>NaN</td>\n",
       "      <td>NaN</td>\n",
       "      <td>Forest fire near La Ronge Sask. Canada</td>\n",
       "      <td>1</td>\n",
       "    </tr>\n",
       "    <tr>\n",
       "      <th>2</th>\n",
       "      <td>5</td>\n",
       "      <td>NaN</td>\n",
       "      <td>NaN</td>\n",
       "      <td>All residents asked to 'shelter in place' are ...</td>\n",
       "      <td>1</td>\n",
       "    </tr>\n",
       "    <tr>\n",
       "      <th>3</th>\n",
       "      <td>6</td>\n",
       "      <td>NaN</td>\n",
       "      <td>NaN</td>\n",
       "      <td>13,000 people receive #wildfires evacuation or...</td>\n",
       "      <td>1</td>\n",
       "    </tr>\n",
       "    <tr>\n",
       "      <th>4</th>\n",
       "      <td>7</td>\n",
       "      <td>NaN</td>\n",
       "      <td>NaN</td>\n",
       "      <td>Just got sent this photo from Ruby #Alaska as ...</td>\n",
       "      <td>1</td>\n",
       "    </tr>\n",
       "    <tr>\n",
       "      <th>...</th>\n",
       "      <td>...</td>\n",
       "      <td>...</td>\n",
       "      <td>...</td>\n",
       "      <td>...</td>\n",
       "      <td>...</td>\n",
       "    </tr>\n",
       "    <tr>\n",
       "      <th>7608</th>\n",
       "      <td>10869</td>\n",
       "      <td>NaN</td>\n",
       "      <td>NaN</td>\n",
       "      <td>Two giant cranes holding a bridge collapse int...</td>\n",
       "      <td>1</td>\n",
       "    </tr>\n",
       "    <tr>\n",
       "      <th>7609</th>\n",
       "      <td>10870</td>\n",
       "      <td>NaN</td>\n",
       "      <td>NaN</td>\n",
       "      <td>@aria_ahrary @TheTawniest The out of control w...</td>\n",
       "      <td>1</td>\n",
       "    </tr>\n",
       "    <tr>\n",
       "      <th>7610</th>\n",
       "      <td>10871</td>\n",
       "      <td>NaN</td>\n",
       "      <td>NaN</td>\n",
       "      <td>M1.94 [01:04 UTC]?5km S of Volcano Hawaii. htt...</td>\n",
       "      <td>1</td>\n",
       "    </tr>\n",
       "    <tr>\n",
       "      <th>7611</th>\n",
       "      <td>10872</td>\n",
       "      <td>NaN</td>\n",
       "      <td>NaN</td>\n",
       "      <td>Police investigating after an e-bike collided ...</td>\n",
       "      <td>1</td>\n",
       "    </tr>\n",
       "    <tr>\n",
       "      <th>7612</th>\n",
       "      <td>10873</td>\n",
       "      <td>NaN</td>\n",
       "      <td>NaN</td>\n",
       "      <td>The Latest: More Homes Razed by Northern Calif...</td>\n",
       "      <td>1</td>\n",
       "    </tr>\n",
       "  </tbody>\n",
       "</table>\n",
       "<p>7613 rows × 5 columns</p>\n",
       "</div>"
      ],
      "text/plain": [
       "         id keyword location  \\\n",
       "0         1     NaN      NaN   \n",
       "1         4     NaN      NaN   \n",
       "2         5     NaN      NaN   \n",
       "3         6     NaN      NaN   \n",
       "4         7     NaN      NaN   \n",
       "...     ...     ...      ...   \n",
       "7608  10869     NaN      NaN   \n",
       "7609  10870     NaN      NaN   \n",
       "7610  10871     NaN      NaN   \n",
       "7611  10872     NaN      NaN   \n",
       "7612  10873     NaN      NaN   \n",
       "\n",
       "                                                   text  target  \n",
       "0     Our Deeds are the Reason of this #earthquake M...       1  \n",
       "1                Forest fire near La Ronge Sask. Canada       1  \n",
       "2     All residents asked to 'shelter in place' are ...       1  \n",
       "3     13,000 people receive #wildfires evacuation or...       1  \n",
       "4     Just got sent this photo from Ruby #Alaska as ...       1  \n",
       "...                                                 ...     ...  \n",
       "7608  Two giant cranes holding a bridge collapse int...       1  \n",
       "7609  @aria_ahrary @TheTawniest The out of control w...       1  \n",
       "7610  M1.94 [01:04 UTC]?5km S of Volcano Hawaii. htt...       1  \n",
       "7611  Police investigating after an e-bike collided ...       1  \n",
       "7612  The Latest: More Homes Razed by Northern Calif...       1  \n",
       "\n",
       "[7613 rows x 5 columns]"
      ]
     },
     "execution_count": 9,
     "metadata": {},
     "output_type": "execute_result"
    }
   ],
   "source": [
    "data"
   ]
  },
  {
   "cell_type": "code",
   "execution_count": 10,
   "id": "19986189",
   "metadata": {
    "ExecuteTime": {
     "end_time": "2023-01-11T10:08:35.550067Z",
     "start_time": "2023-01-11T10:08:35.526250Z"
    }
   },
   "outputs": [
    {
     "data": {
      "text/plain": [
       "id             0\n",
       "keyword       61\n",
       "location    2533\n",
       "text           0\n",
       "target         0\n",
       "dtype: int64"
      ]
     },
     "execution_count": 10,
     "metadata": {},
     "output_type": "execute_result"
    }
   ],
   "source": [
    "data.isnull().sum()"
   ]
  },
  {
   "cell_type": "code",
   "execution_count": 11,
   "id": "b3253061",
   "metadata": {
    "ExecuteTime": {
     "end_time": "2023-01-11T10:08:35.765701Z",
     "start_time": "2023-01-11T10:08:35.754306Z"
    }
   },
   "outputs": [
    {
     "data": {
      "text/plain": [
       "0    4342\n",
       "1    3271\n",
       "Name: target, dtype: int64"
      ]
     },
     "execution_count": 11,
     "metadata": {},
     "output_type": "execute_result"
    }
   ],
   "source": [
    "data[\"target\"].value_counts()"
   ]
  },
  {
   "cell_type": "code",
   "execution_count": 12,
   "id": "31f52e08",
   "metadata": {
    "ExecuteTime": {
     "end_time": "2023-01-11T10:08:35.999803Z",
     "start_time": "2023-01-11T10:08:35.974845Z"
    }
   },
   "outputs": [],
   "source": [
    "data_test = pd.read_csv(\"Data/test.csv\")"
   ]
  },
  {
   "cell_type": "code",
   "execution_count": 13,
   "id": "9c1f2688",
   "metadata": {
    "ExecuteTime": {
     "end_time": "2023-01-11T10:08:36.217262Z",
     "start_time": "2023-01-11T10:08:36.193918Z"
    }
   },
   "outputs": [
    {
     "data": {
      "text/html": [
       "<div>\n",
       "<style scoped>\n",
       "    .dataframe tbody tr th:only-of-type {\n",
       "        vertical-align: middle;\n",
       "    }\n",
       "\n",
       "    .dataframe tbody tr th {\n",
       "        vertical-align: top;\n",
       "    }\n",
       "\n",
       "    .dataframe thead th {\n",
       "        text-align: right;\n",
       "    }\n",
       "</style>\n",
       "<table border=\"1\" class=\"dataframe\">\n",
       "  <thead>\n",
       "    <tr style=\"text-align: right;\">\n",
       "      <th></th>\n",
       "      <th>id</th>\n",
       "      <th>keyword</th>\n",
       "      <th>location</th>\n",
       "      <th>text</th>\n",
       "    </tr>\n",
       "  </thead>\n",
       "  <tbody>\n",
       "    <tr>\n",
       "      <th>0</th>\n",
       "      <td>0</td>\n",
       "      <td>NaN</td>\n",
       "      <td>NaN</td>\n",
       "      <td>Just happened a terrible car crash</td>\n",
       "    </tr>\n",
       "    <tr>\n",
       "      <th>1</th>\n",
       "      <td>2</td>\n",
       "      <td>NaN</td>\n",
       "      <td>NaN</td>\n",
       "      <td>Heard about #earthquake is different cities, s...</td>\n",
       "    </tr>\n",
       "    <tr>\n",
       "      <th>2</th>\n",
       "      <td>3</td>\n",
       "      <td>NaN</td>\n",
       "      <td>NaN</td>\n",
       "      <td>there is a forest fire at spot pond, geese are...</td>\n",
       "    </tr>\n",
       "    <tr>\n",
       "      <th>3</th>\n",
       "      <td>9</td>\n",
       "      <td>NaN</td>\n",
       "      <td>NaN</td>\n",
       "      <td>Apocalypse lighting. #Spokane #wildfires</td>\n",
       "    </tr>\n",
       "    <tr>\n",
       "      <th>4</th>\n",
       "      <td>11</td>\n",
       "      <td>NaN</td>\n",
       "      <td>NaN</td>\n",
       "      <td>Typhoon Soudelor kills 28 in China and Taiwan</td>\n",
       "    </tr>\n",
       "    <tr>\n",
       "      <th>...</th>\n",
       "      <td>...</td>\n",
       "      <td>...</td>\n",
       "      <td>...</td>\n",
       "      <td>...</td>\n",
       "    </tr>\n",
       "    <tr>\n",
       "      <th>3258</th>\n",
       "      <td>10861</td>\n",
       "      <td>NaN</td>\n",
       "      <td>NaN</td>\n",
       "      <td>EARTHQUAKE SAFETY LOS ANGELES ÛÒ SAFETY FASTE...</td>\n",
       "    </tr>\n",
       "    <tr>\n",
       "      <th>3259</th>\n",
       "      <td>10865</td>\n",
       "      <td>NaN</td>\n",
       "      <td>NaN</td>\n",
       "      <td>Storm in RI worse than last hurricane. My city...</td>\n",
       "    </tr>\n",
       "    <tr>\n",
       "      <th>3260</th>\n",
       "      <td>10868</td>\n",
       "      <td>NaN</td>\n",
       "      <td>NaN</td>\n",
       "      <td>Green Line derailment in Chicago http://t.co/U...</td>\n",
       "    </tr>\n",
       "    <tr>\n",
       "      <th>3261</th>\n",
       "      <td>10874</td>\n",
       "      <td>NaN</td>\n",
       "      <td>NaN</td>\n",
       "      <td>MEG issues Hazardous Weather Outlook (HWO) htt...</td>\n",
       "    </tr>\n",
       "    <tr>\n",
       "      <th>3262</th>\n",
       "      <td>10875</td>\n",
       "      <td>NaN</td>\n",
       "      <td>NaN</td>\n",
       "      <td>#CityofCalgary has activated its Municipal Eme...</td>\n",
       "    </tr>\n",
       "  </tbody>\n",
       "</table>\n",
       "<p>3263 rows × 4 columns</p>\n",
       "</div>"
      ],
      "text/plain": [
       "         id keyword location  \\\n",
       "0         0     NaN      NaN   \n",
       "1         2     NaN      NaN   \n",
       "2         3     NaN      NaN   \n",
       "3         9     NaN      NaN   \n",
       "4        11     NaN      NaN   \n",
       "...     ...     ...      ...   \n",
       "3258  10861     NaN      NaN   \n",
       "3259  10865     NaN      NaN   \n",
       "3260  10868     NaN      NaN   \n",
       "3261  10874     NaN      NaN   \n",
       "3262  10875     NaN      NaN   \n",
       "\n",
       "                                                   text  \n",
       "0                    Just happened a terrible car crash  \n",
       "1     Heard about #earthquake is different cities, s...  \n",
       "2     there is a forest fire at spot pond, geese are...  \n",
       "3              Apocalypse lighting. #Spokane #wildfires  \n",
       "4         Typhoon Soudelor kills 28 in China and Taiwan  \n",
       "...                                                 ...  \n",
       "3258  EARTHQUAKE SAFETY LOS ANGELES ÛÒ SAFETY FASTE...  \n",
       "3259  Storm in RI worse than last hurricane. My city...  \n",
       "3260  Green Line derailment in Chicago http://t.co/U...  \n",
       "3261  MEG issues Hazardous Weather Outlook (HWO) htt...  \n",
       "3262  #CityofCalgary has activated its Municipal Eme...  \n",
       "\n",
       "[3263 rows x 4 columns]"
      ]
     },
     "execution_count": 13,
     "metadata": {},
     "output_type": "execute_result"
    }
   ],
   "source": [
    "data_test"
   ]
  },
  {
   "cell_type": "markdown",
   "id": "bc560b84",
   "metadata": {},
   "source": [
    "# On encode la data"
   ]
  },
  {
   "cell_type": "code",
   "execution_count": 14,
   "id": "7c1d2086",
   "metadata": {
    "ExecuteTime": {
     "end_time": "2023-01-11T10:08:36.625297Z",
     "start_time": "2023-01-11T10:08:36.619005Z"
    }
   },
   "outputs": [],
   "source": [
    "X = data[\"text\"]"
   ]
  },
  {
   "cell_type": "code",
   "execution_count": 15,
   "id": "686ce93c",
   "metadata": {
    "ExecuteTime": {
     "end_time": "2023-01-11T10:08:36.838372Z",
     "start_time": "2023-01-11T10:08:36.833175Z"
    }
   },
   "outputs": [],
   "source": [
    "y = data[\"target\"]"
   ]
  },
  {
   "cell_type": "code",
   "execution_count": 16,
   "id": "703a5e23",
   "metadata": {
    "ExecuteTime": {
     "end_time": "2023-01-11T10:08:37.065062Z",
     "start_time": "2023-01-11T10:08:37.054564Z"
    }
   },
   "outputs": [],
   "source": [
    "from sklearn.model_selection import train_test_split\n",
    "\n",
    "X_train, X_test, y_train, y_test = train_test_split(X, y, test_size=0.33, random_state=42)"
   ]
  },
  {
   "cell_type": "code",
   "execution_count": 17,
   "id": "5ee7bd82",
   "metadata": {
    "ExecuteTime": {
     "end_time": "2023-01-11T10:08:38.486760Z",
     "start_time": "2023-01-11T10:08:37.600293Z"
    }
   },
   "outputs": [],
   "source": [
    "from gensim.models import Word2Vec\n",
    "\n",
    "word2vec = Word2Vec(sentences=X_train)"
   ]
  },
  {
   "cell_type": "code",
   "execution_count": 18,
   "id": "57a9a066",
   "metadata": {
    "ExecuteTime": {
     "end_time": "2023-01-11T10:08:38.500086Z",
     "start_time": "2023-01-11T10:08:38.491050Z"
    }
   },
   "outputs": [],
   "source": [
    "# Function to convert a sentence (list of words) into a matrix representing the words in the embedding space\n",
    "def embed_sentence(word2vec, sentence):\n",
    "    embedded_sentence = []\n",
    "    for word in sentence:\n",
    "        if word in word2vec.wv:\n",
    "            embedded_sentence.append(word2vec.wv[word])\n",
    "        \n",
    "    return np.array(embedded_sentence)\n",
    "\n",
    "# Function that converts a list of sentences into a list of matrices\n",
    "def embedding(word2vec, sentences):\n",
    "    embed = []\n",
    "    \n",
    "    for sentence in sentences:\n",
    "        embedded_sentence = embed_sentence(word2vec, sentence)\n",
    "        embed.append(embedded_sentence)\n",
    "        \n",
    "    return embed"
   ]
  },
  {
   "cell_type": "code",
   "execution_count": 19,
   "id": "ab531cf0",
   "metadata": {
    "ExecuteTime": {
     "end_time": "2023-01-11T10:08:40.736707Z",
     "start_time": "2023-01-11T10:08:38.504277Z"
    }
   },
   "outputs": [],
   "source": [
    "# Embed the training sentences\n",
    "X_train_embed = embedding(word2vec, X_train)\n",
    "X_test_embed = embedding(word2vec, X_test)"
   ]
  },
  {
   "cell_type": "code",
   "execution_count": 20,
   "id": "f34a8a12",
   "metadata": {
    "ExecuteTime": {
     "end_time": "2023-01-11T10:08:40.843316Z",
     "start_time": "2023-01-11T10:08:40.739574Z"
    }
   },
   "outputs": [],
   "source": [
    "from tensorflow.keras.preprocessing.sequence import pad_sequences\n",
    "X_train_pad = pad_sequences(X_train_embed, dtype='float32', padding='post', maxlen=200)"
   ]
  },
  {
   "cell_type": "code",
   "execution_count": 21,
   "id": "a4d0caec",
   "metadata": {
    "ExecuteTime": {
     "end_time": "2023-01-11T10:08:40.900335Z",
     "start_time": "2023-01-11T10:08:40.845334Z"
    }
   },
   "outputs": [],
   "source": [
    "X_test_pad = pad_sequences(X_test_embed, dtype='float32', padding='post', maxlen=200)"
   ]
  },
  {
   "cell_type": "code",
   "execution_count": 22,
   "id": "5aac6401",
   "metadata": {
    "ExecuteTime": {
     "end_time": "2023-01-11T10:08:41.219500Z",
     "start_time": "2023-01-11T10:08:40.902510Z"
    }
   },
   "outputs": [
    {
     "data": {
      "text/plain": [
       "(5100, 200, 100)"
      ]
     },
     "execution_count": 22,
     "metadata": {},
     "output_type": "execute_result"
    }
   ],
   "source": [
    "X_train_pad.shape"
   ]
  },
  {
   "cell_type": "code",
   "execution_count": 23,
   "id": "2280e9a7",
   "metadata": {
    "ExecuteTime": {
     "end_time": "2023-01-11T10:08:41.396511Z",
     "start_time": "2023-01-11T10:08:41.389865Z"
    }
   },
   "outputs": [
    {
     "data": {
      "text/plain": [
       "(5100,)"
      ]
     },
     "execution_count": 23,
     "metadata": {},
     "output_type": "execute_result"
    }
   ],
   "source": [
    "y_train.shape"
   ]
  },
  {
   "cell_type": "markdown",
   "id": "716f72b0",
   "metadata": {},
   "source": [
    "# Premier modèle"
   ]
  },
  {
   "cell_type": "code",
   "execution_count": 24,
   "id": "3dcd2f5c",
   "metadata": {
    "ExecuteTime": {
     "end_time": "2023-01-11T10:08:43.179110Z",
     "start_time": "2023-01-11T10:08:43.170705Z"
    }
   },
   "outputs": [
    {
     "data": {
      "text/plain": [
       "100"
      ]
     },
     "execution_count": 24,
     "metadata": {},
     "output_type": "execute_result"
    }
   ],
   "source": [
    "word2vec.wv.vector_size"
   ]
  },
  {
   "cell_type": "code",
   "execution_count": 25,
   "id": "4133cc3c",
   "metadata": {
    "ExecuteTime": {
     "end_time": "2023-01-11T10:08:43.818067Z",
     "start_time": "2023-01-11T10:08:43.808427Z"
    }
   },
   "outputs": [],
   "source": [
    "from tensorflow.keras import layers, Sequential\n",
    "from tensorflow.keras.layers import SimpleRNN, LSTM, GRU\n",
    "from tensorflow.keras.layers import Masking\n",
    "from tensorflow.keras.metrics import *"
   ]
  },
  {
   "cell_type": "code",
   "execution_count": 45,
   "id": "0b4fd9f6",
   "metadata": {
    "ExecuteTime": {
     "end_time": "2023-01-11T10:12:24.174956Z",
     "start_time": "2023-01-11T10:12:24.132353Z"
    }
   },
   "outputs": [],
   "source": [
    "rnn = Sequential([\n",
    "    layers.Masking(mask_value=0),\n",
    "    layers.LSTM(20, activation=\"tanh\"),\n",
    "    layers.Dense(10, activation=\"relu\"),\n",
    "    layers.Dense(1, activation=\"sigmoid\")\n",
    "])\n",
    "\n",
    "rnn.compile(loss='binary_crossentropy',\n",
    "              optimizer='rmsprop',\n",
    "              metrics=['accuracy'])"
   ]
  },
  {
   "cell_type": "code",
   "execution_count": 53,
   "id": "76e721e9",
   "metadata": {
    "ExecuteTime": {
     "end_time": "2023-01-11T09:20:28.335511Z",
     "start_time": "2023-01-11T09:15:42.720374Z"
    }
   },
   "outputs": [
    {
     "name": "stdout",
     "output_type": "stream",
     "text": [
      "Epoch 1/10\n",
      "319/319 [==============================] - 32s 82ms/step - loss: 0.6575 - accuracy: 0.6108\n",
      "Epoch 2/10\n",
      "319/319 [==============================] - 28s 89ms/step - loss: 0.6493 - accuracy: 0.6212\n",
      "Epoch 3/10\n",
      "319/319 [==============================] - 26s 81ms/step - loss: 0.6454 - accuracy: 0.6265\n",
      "Epoch 4/10\n",
      "319/319 [==============================] - 28s 89ms/step - loss: 0.6440 - accuracy: 0.6290\n",
      "Epoch 5/10\n",
      "319/319 [==============================] - 29s 90ms/step - loss: 0.6392 - accuracy: 0.6351\n",
      "Epoch 6/10\n",
      "319/319 [==============================] - 28s 88ms/step - loss: 0.6379 - accuracy: 0.6380\n",
      "Epoch 7/10\n",
      "319/319 [==============================] - 28s 89ms/step - loss: 0.6338 - accuracy: 0.6390\n",
      "Epoch 8/10\n",
      "319/319 [==============================] - 29s 90ms/step - loss: 0.6279 - accuracy: 0.6433\n",
      "Epoch 9/10\n",
      "319/319 [==============================] - 28s 89ms/step - loss: 0.6247 - accuracy: 0.6447\n",
      "Epoch 10/10\n",
      "319/319 [==============================] - 28s 88ms/step - loss: 0.6198 - accuracy: 0.6510\n"
     ]
    },
    {
     "data": {
      "text/plain": [
       "<keras.callbacks.History at 0x7efbf6fca260>"
      ]
     },
     "execution_count": 53,
     "metadata": {},
     "output_type": "execute_result"
    }
   ],
   "source": [
    "from tensorflow.keras import callbacks\n",
    "es = callbacks.EarlyStopping(patience=3,restore_best_weights=True)\n",
    "\n",
    "rnn.fit(X_train_pad, y_train, epochs=10, batch_size=16, verbose=1)\n"
   ]
  },
  {
   "cell_type": "code",
   "execution_count": 57,
   "id": "dc38e482",
   "metadata": {
    "ExecuteTime": {
     "end_time": "2023-01-11T09:27:06.874946Z",
     "start_time": "2023-01-11T09:27:03.649764Z"
    }
   },
   "outputs": [
    {
     "name": "stdout",
     "output_type": "stream",
     "text": [
      "79/79 [==============================] - 3s 25ms/step - loss: 0.6336 - accuracy: 0.6327\n"
     ]
    },
    {
     "data": {
      "text/plain": [
       "[0.6336041688919067, 0.6327099204063416]"
      ]
     },
     "execution_count": 57,
     "metadata": {},
     "output_type": "execute_result"
    }
   ],
   "source": [
    "rnn.evaluate(X_test_pad, y_test)"
   ]
  },
  {
   "cell_type": "markdown",
   "id": "066633dc",
   "metadata": {},
   "source": [
    "# Modele si on clean les données ?"
   ]
  },
  {
   "cell_type": "markdown",
   "id": "04fb567e",
   "metadata": {
    "heading_collapsed": true
   },
   "source": [
    "## data cleaning"
   ]
  },
  {
   "cell_type": "code",
   "execution_count": 27,
   "id": "348897f2",
   "metadata": {
    "ExecuteTime": {
     "end_time": "2023-01-11T10:08:48.264299Z",
     "start_time": "2023-01-11T10:08:48.248356Z"
    },
    "hidden": true
   },
   "outputs": [
    {
     "data": {
      "text/html": [
       "<div>\n",
       "<style scoped>\n",
       "    .dataframe tbody tr th:only-of-type {\n",
       "        vertical-align: middle;\n",
       "    }\n",
       "\n",
       "    .dataframe tbody tr th {\n",
       "        vertical-align: top;\n",
       "    }\n",
       "\n",
       "    .dataframe thead th {\n",
       "        text-align: right;\n",
       "    }\n",
       "</style>\n",
       "<table border=\"1\" class=\"dataframe\">\n",
       "  <thead>\n",
       "    <tr style=\"text-align: right;\">\n",
       "      <th></th>\n",
       "      <th>id</th>\n",
       "      <th>keyword</th>\n",
       "      <th>location</th>\n",
       "      <th>text</th>\n",
       "      <th>target</th>\n",
       "    </tr>\n",
       "  </thead>\n",
       "  <tbody>\n",
       "    <tr>\n",
       "      <th>0</th>\n",
       "      <td>1</td>\n",
       "      <td>NaN</td>\n",
       "      <td>NaN</td>\n",
       "      <td>Our Deeds are the Reason of this #earthquake M...</td>\n",
       "      <td>1</td>\n",
       "    </tr>\n",
       "    <tr>\n",
       "      <th>1</th>\n",
       "      <td>4</td>\n",
       "      <td>NaN</td>\n",
       "      <td>NaN</td>\n",
       "      <td>Forest fire near La Ronge Sask. Canada</td>\n",
       "      <td>1</td>\n",
       "    </tr>\n",
       "    <tr>\n",
       "      <th>2</th>\n",
       "      <td>5</td>\n",
       "      <td>NaN</td>\n",
       "      <td>NaN</td>\n",
       "      <td>All residents asked to 'shelter in place' are ...</td>\n",
       "      <td>1</td>\n",
       "    </tr>\n",
       "    <tr>\n",
       "      <th>3</th>\n",
       "      <td>6</td>\n",
       "      <td>NaN</td>\n",
       "      <td>NaN</td>\n",
       "      <td>13,000 people receive #wildfires evacuation or...</td>\n",
       "      <td>1</td>\n",
       "    </tr>\n",
       "    <tr>\n",
       "      <th>4</th>\n",
       "      <td>7</td>\n",
       "      <td>NaN</td>\n",
       "      <td>NaN</td>\n",
       "      <td>Just got sent this photo from Ruby #Alaska as ...</td>\n",
       "      <td>1</td>\n",
       "    </tr>\n",
       "    <tr>\n",
       "      <th>...</th>\n",
       "      <td>...</td>\n",
       "      <td>...</td>\n",
       "      <td>...</td>\n",
       "      <td>...</td>\n",
       "      <td>...</td>\n",
       "    </tr>\n",
       "    <tr>\n",
       "      <th>7608</th>\n",
       "      <td>10869</td>\n",
       "      <td>NaN</td>\n",
       "      <td>NaN</td>\n",
       "      <td>Two giant cranes holding a bridge collapse int...</td>\n",
       "      <td>1</td>\n",
       "    </tr>\n",
       "    <tr>\n",
       "      <th>7609</th>\n",
       "      <td>10870</td>\n",
       "      <td>NaN</td>\n",
       "      <td>NaN</td>\n",
       "      <td>@aria_ahrary @TheTawniest The out of control w...</td>\n",
       "      <td>1</td>\n",
       "    </tr>\n",
       "    <tr>\n",
       "      <th>7610</th>\n",
       "      <td>10871</td>\n",
       "      <td>NaN</td>\n",
       "      <td>NaN</td>\n",
       "      <td>M1.94 [01:04 UTC]?5km S of Volcano Hawaii. htt...</td>\n",
       "      <td>1</td>\n",
       "    </tr>\n",
       "    <tr>\n",
       "      <th>7611</th>\n",
       "      <td>10872</td>\n",
       "      <td>NaN</td>\n",
       "      <td>NaN</td>\n",
       "      <td>Police investigating after an e-bike collided ...</td>\n",
       "      <td>1</td>\n",
       "    </tr>\n",
       "    <tr>\n",
       "      <th>7612</th>\n",
       "      <td>10873</td>\n",
       "      <td>NaN</td>\n",
       "      <td>NaN</td>\n",
       "      <td>The Latest: More Homes Razed by Northern Calif...</td>\n",
       "      <td>1</td>\n",
       "    </tr>\n",
       "  </tbody>\n",
       "</table>\n",
       "<p>7613 rows × 5 columns</p>\n",
       "</div>"
      ],
      "text/plain": [
       "         id keyword location  \\\n",
       "0         1     NaN      NaN   \n",
       "1         4     NaN      NaN   \n",
       "2         5     NaN      NaN   \n",
       "3         6     NaN      NaN   \n",
       "4         7     NaN      NaN   \n",
       "...     ...     ...      ...   \n",
       "7608  10869     NaN      NaN   \n",
       "7609  10870     NaN      NaN   \n",
       "7610  10871     NaN      NaN   \n",
       "7611  10872     NaN      NaN   \n",
       "7612  10873     NaN      NaN   \n",
       "\n",
       "                                                   text  target  \n",
       "0     Our Deeds are the Reason of this #earthquake M...       1  \n",
       "1                Forest fire near La Ronge Sask. Canada       1  \n",
       "2     All residents asked to 'shelter in place' are ...       1  \n",
       "3     13,000 people receive #wildfires evacuation or...       1  \n",
       "4     Just got sent this photo from Ruby #Alaska as ...       1  \n",
       "...                                                 ...     ...  \n",
       "7608  Two giant cranes holding a bridge collapse int...       1  \n",
       "7609  @aria_ahrary @TheTawniest The out of control w...       1  \n",
       "7610  M1.94 [01:04 UTC]?5km S of Volcano Hawaii. htt...       1  \n",
       "7611  Police investigating after an e-bike collided ...       1  \n",
       "7612  The Latest: More Homes Razed by Northern Calif...       1  \n",
       "\n",
       "[7613 rows x 5 columns]"
      ]
     },
     "execution_count": 27,
     "metadata": {},
     "output_type": "execute_result"
    }
   ],
   "source": [
    "data"
   ]
  },
  {
   "cell_type": "code",
   "execution_count": 31,
   "id": "500043ff",
   "metadata": {
    "ExecuteTime": {
     "end_time": "2023-01-11T10:09:11.016732Z",
     "start_time": "2023-01-11T10:09:11.012397Z"
    },
    "hidden": true
   },
   "outputs": [],
   "source": [
    "import string\n",
    "import nltk\n",
    "from nltk import word_tokenize\n",
    "from nltk.stem import WordNetLemmatizer"
   ]
  },
  {
   "cell_type": "code",
   "execution_count": 34,
   "id": "f0159204",
   "metadata": {
    "ExecuteTime": {
     "end_time": "2023-01-11T10:10:04.338691Z",
     "start_time": "2023-01-11T10:10:01.220209Z"
    },
    "hidden": true
   },
   "outputs": [
    {
     "name": "stderr",
     "output_type": "stream",
     "text": [
      "[nltk_data] Downloading package stopwords to /home/verdy/nltk_data...\n",
      "[nltk_data]   Unzipping corpora/stopwords.zip.\n",
      "[nltk_data] Downloading package punkt to /home/verdy/nltk_data...\n",
      "[nltk_data]   Unzipping tokenizers/punkt.zip.\n",
      "[nltk_data] Downloading package wordnet to /home/verdy/nltk_data...\n",
      "[nltk_data] Downloading package omw-1.4 to /home/verdy/nltk_data...\n"
     ]
    },
    {
     "data": {
      "text/plain": [
       "True"
      ]
     },
     "execution_count": 34,
     "metadata": {},
     "output_type": "execute_result"
    }
   ],
   "source": [
    "import nltk\n",
    "\n",
    "nltk.download('stopwords')\n",
    "nltk.download('punkt')\n",
    "nltk.download('wordnet')\n",
    "nltk.download('omw-1.4')"
   ]
  },
  {
   "cell_type": "code",
   "execution_count": 35,
   "id": "1d5b642e",
   "metadata": {
    "ExecuteTime": {
     "end_time": "2023-01-11T10:10:05.598989Z",
     "start_time": "2023-01-11T10:10:05.584598Z"
    },
    "hidden": true
   },
   "outputs": [],
   "source": [
    "def preprocessing(text):\n",
    "    for punctuation in string.punctuation:\n",
    "        text = text.replace(punctuation, '')\n",
    "        \n",
    "    text = text.strip()\n",
    "    text = text.lower() \n",
    "    text = ''.join(char for char in text if not char.isdigit())\n",
    "    \n",
    "    list_mots = text.split(\" \")\n",
    "    ls = []\n",
    "    last = []\n",
    "    for el in list_mots:\n",
    "        ls.append(WordNetLemmatizer().lemmatize(WordNetLemmatizer().lemmatize(el, pos = \"n\"), pos = \"v\"))\n",
    "    text = ' '.join(ls)\n",
    "    \n",
    "    text = text.replace(\"\\n\",\"\")\n",
    "\n",
    "    return text"
   ]
  },
  {
   "cell_type": "code",
   "execution_count": 36,
   "id": "c87de38d",
   "metadata": {
    "ExecuteTime": {
     "end_time": "2023-01-11T10:10:09.189221Z",
     "start_time": "2023-01-11T10:10:06.151304Z"
    },
    "hidden": true
   },
   "outputs": [],
   "source": [
    "data[\"clean_twitte\"] = data[\"text\"].map(preprocessing)"
   ]
  },
  {
   "cell_type": "code",
   "execution_count": 37,
   "id": "afe55391",
   "metadata": {
    "ExecuteTime": {
     "end_time": "2023-01-11T10:10:11.710977Z",
     "start_time": "2023-01-11T10:10:11.697141Z"
    },
    "hidden": true
   },
   "outputs": [
    {
     "data": {
      "text/html": [
       "<div>\n",
       "<style scoped>\n",
       "    .dataframe tbody tr th:only-of-type {\n",
       "        vertical-align: middle;\n",
       "    }\n",
       "\n",
       "    .dataframe tbody tr th {\n",
       "        vertical-align: top;\n",
       "    }\n",
       "\n",
       "    .dataframe thead th {\n",
       "        text-align: right;\n",
       "    }\n",
       "</style>\n",
       "<table border=\"1\" class=\"dataframe\">\n",
       "  <thead>\n",
       "    <tr style=\"text-align: right;\">\n",
       "      <th></th>\n",
       "      <th>id</th>\n",
       "      <th>keyword</th>\n",
       "      <th>location</th>\n",
       "      <th>text</th>\n",
       "      <th>target</th>\n",
       "      <th>clean_twitte</th>\n",
       "    </tr>\n",
       "  </thead>\n",
       "  <tbody>\n",
       "    <tr>\n",
       "      <th>0</th>\n",
       "      <td>1</td>\n",
       "      <td>NaN</td>\n",
       "      <td>NaN</td>\n",
       "      <td>Our Deeds are the Reason of this #earthquake M...</td>\n",
       "      <td>1</td>\n",
       "      <td>our deed be the reason of this earthquake may ...</td>\n",
       "    </tr>\n",
       "    <tr>\n",
       "      <th>1</th>\n",
       "      <td>4</td>\n",
       "      <td>NaN</td>\n",
       "      <td>NaN</td>\n",
       "      <td>Forest fire near La Ronge Sask. Canada</td>\n",
       "      <td>1</td>\n",
       "      <td>forest fire near la ronge sask canada</td>\n",
       "    </tr>\n",
       "    <tr>\n",
       "      <th>2</th>\n",
       "      <td>5</td>\n",
       "      <td>NaN</td>\n",
       "      <td>NaN</td>\n",
       "      <td>All residents asked to 'shelter in place' are ...</td>\n",
       "      <td>1</td>\n",
       "      <td>all resident ask to shelter in place be be not...</td>\n",
       "    </tr>\n",
       "    <tr>\n",
       "      <th>3</th>\n",
       "      <td>6</td>\n",
       "      <td>NaN</td>\n",
       "      <td>NaN</td>\n",
       "      <td>13,000 people receive #wildfires evacuation or...</td>\n",
       "      <td>1</td>\n",
       "      <td>people receive wildfire evacuation order in c...</td>\n",
       "    </tr>\n",
       "    <tr>\n",
       "      <th>4</th>\n",
       "      <td>7</td>\n",
       "      <td>NaN</td>\n",
       "      <td>NaN</td>\n",
       "      <td>Just got sent this photo from Ruby #Alaska as ...</td>\n",
       "      <td>1</td>\n",
       "      <td>just get send this photo from ruby alaska a sm...</td>\n",
       "    </tr>\n",
       "    <tr>\n",
       "      <th>...</th>\n",
       "      <td>...</td>\n",
       "      <td>...</td>\n",
       "      <td>...</td>\n",
       "      <td>...</td>\n",
       "      <td>...</td>\n",
       "      <td>...</td>\n",
       "    </tr>\n",
       "    <tr>\n",
       "      <th>7608</th>\n",
       "      <td>10869</td>\n",
       "      <td>NaN</td>\n",
       "      <td>NaN</td>\n",
       "      <td>Two giant cranes holding a bridge collapse int...</td>\n",
       "      <td>1</td>\n",
       "      <td>two giant crane hold a bridge collapse into ne...</td>\n",
       "    </tr>\n",
       "    <tr>\n",
       "      <th>7609</th>\n",
       "      <td>10870</td>\n",
       "      <td>NaN</td>\n",
       "      <td>NaN</td>\n",
       "      <td>@aria_ahrary @TheTawniest The out of control w...</td>\n",
       "      <td>1</td>\n",
       "      <td>ariaahrary thetawniest the out of control wild...</td>\n",
       "    </tr>\n",
       "    <tr>\n",
       "      <th>7610</th>\n",
       "      <td>10871</td>\n",
       "      <td>NaN</td>\n",
       "      <td>NaN</td>\n",
       "      <td>M1.94 [01:04 UTC]?5km S of Volcano Hawaii. htt...</td>\n",
       "      <td>1</td>\n",
       "      <td>m  utckm s of volcano hawaii httptcozdtoydebj</td>\n",
       "    </tr>\n",
       "    <tr>\n",
       "      <th>7611</th>\n",
       "      <td>10872</td>\n",
       "      <td>NaN</td>\n",
       "      <td>NaN</td>\n",
       "      <td>Police investigating after an e-bike collided ...</td>\n",
       "      <td>1</td>\n",
       "      <td>police investigate after an ebike collide with...</td>\n",
       "    </tr>\n",
       "    <tr>\n",
       "      <th>7612</th>\n",
       "      <td>10873</td>\n",
       "      <td>NaN</td>\n",
       "      <td>NaN</td>\n",
       "      <td>The Latest: More Homes Razed by Northern Calif...</td>\n",
       "      <td>1</td>\n",
       "      <td>the latest more home raze by northern californ...</td>\n",
       "    </tr>\n",
       "  </tbody>\n",
       "</table>\n",
       "<p>7613 rows × 6 columns</p>\n",
       "</div>"
      ],
      "text/plain": [
       "         id keyword location  \\\n",
       "0         1     NaN      NaN   \n",
       "1         4     NaN      NaN   \n",
       "2         5     NaN      NaN   \n",
       "3         6     NaN      NaN   \n",
       "4         7     NaN      NaN   \n",
       "...     ...     ...      ...   \n",
       "7608  10869     NaN      NaN   \n",
       "7609  10870     NaN      NaN   \n",
       "7610  10871     NaN      NaN   \n",
       "7611  10872     NaN      NaN   \n",
       "7612  10873     NaN      NaN   \n",
       "\n",
       "                                                   text  target  \\\n",
       "0     Our Deeds are the Reason of this #earthquake M...       1   \n",
       "1                Forest fire near La Ronge Sask. Canada       1   \n",
       "2     All residents asked to 'shelter in place' are ...       1   \n",
       "3     13,000 people receive #wildfires evacuation or...       1   \n",
       "4     Just got sent this photo from Ruby #Alaska as ...       1   \n",
       "...                                                 ...     ...   \n",
       "7608  Two giant cranes holding a bridge collapse int...       1   \n",
       "7609  @aria_ahrary @TheTawniest The out of control w...       1   \n",
       "7610  M1.94 [01:04 UTC]?5km S of Volcano Hawaii. htt...       1   \n",
       "7611  Police investigating after an e-bike collided ...       1   \n",
       "7612  The Latest: More Homes Razed by Northern Calif...       1   \n",
       "\n",
       "                                           clean_twitte  \n",
       "0     our deed be the reason of this earthquake may ...  \n",
       "1                 forest fire near la ronge sask canada  \n",
       "2     all resident ask to shelter in place be be not...  \n",
       "3      people receive wildfire evacuation order in c...  \n",
       "4     just get send this photo from ruby alaska a sm...  \n",
       "...                                                 ...  \n",
       "7608  two giant crane hold a bridge collapse into ne...  \n",
       "7609  ariaahrary thetawniest the out of control wild...  \n",
       "7610      m  utckm s of volcano hawaii httptcozdtoydebj  \n",
       "7611  police investigate after an ebike collide with...  \n",
       "7612  the latest more home raze by northern californ...  \n",
       "\n",
       "[7613 rows x 6 columns]"
      ]
     },
     "execution_count": 37,
     "metadata": {},
     "output_type": "execute_result"
    }
   ],
   "source": [
    "data"
   ]
  },
  {
   "cell_type": "code",
   "execution_count": 38,
   "id": "623f9883",
   "metadata": {
    "ExecuteTime": {
     "end_time": "2023-01-11T10:11:04.182769Z",
     "start_time": "2023-01-11T10:11:04.177698Z"
    },
    "hidden": true
   },
   "outputs": [],
   "source": [
    "X = data[\"clean_twitte\"]"
   ]
  },
  {
   "cell_type": "code",
   "execution_count": 39,
   "id": "015917d1",
   "metadata": {
    "ExecuteTime": {
     "end_time": "2023-01-11T10:11:09.607273Z",
     "start_time": "2023-01-11T10:11:09.601562Z"
    },
    "hidden": true
   },
   "outputs": [],
   "source": [
    "y = data[\"target\"]"
   ]
  },
  {
   "cell_type": "code",
   "execution_count": 40,
   "id": "60999b7b",
   "metadata": {
    "ExecuteTime": {
     "end_time": "2023-01-11T10:11:21.358992Z",
     "start_time": "2023-01-11T10:11:21.349539Z"
    },
    "hidden": true
   },
   "outputs": [],
   "source": [
    "X_train, X_test, y_train, y_test = train_test_split(X, y, test_size=0.33, random_state=42)"
   ]
  },
  {
   "cell_type": "code",
   "execution_count": 41,
   "id": "b4f87d26",
   "metadata": {
    "ExecuteTime": {
     "end_time": "2023-01-11T10:11:29.300690Z",
     "start_time": "2023-01-11T10:11:28.332540Z"
    },
    "hidden": true
   },
   "outputs": [],
   "source": [
    "word2vec = Word2Vec(sentences=X_train)"
   ]
  },
  {
   "cell_type": "code",
   "execution_count": 42,
   "id": "7fbfc164",
   "metadata": {
    "ExecuteTime": {
     "end_time": "2023-01-11T10:11:39.975751Z",
     "start_time": "2023-01-11T10:11:38.076244Z"
    },
    "hidden": true
   },
   "outputs": [],
   "source": [
    "# Embed the training sentences\n",
    "X_train_embed = embedding(word2vec, X_train)\n",
    "X_test_embed = embedding(word2vec, X_test)"
   ]
  },
  {
   "cell_type": "code",
   "execution_count": 43,
   "id": "64177ef3",
   "metadata": {
    "ExecuteTime": {
     "end_time": "2023-01-11T10:12:05.725560Z",
     "start_time": "2023-01-11T10:12:05.571919Z"
    },
    "hidden": true
   },
   "outputs": [],
   "source": [
    "X_train_pad = pad_sequences(X_train_embed, dtype='float32', padding='post', maxlen=200)\n",
    "X_test_pad = pad_sequences(X_test_embed, dtype='float32', padding='post', maxlen=200)"
   ]
  },
  {
   "cell_type": "code",
   "execution_count": 44,
   "id": "31ec5fcb",
   "metadata": {
    "ExecuteTime": {
     "end_time": "2023-01-11T10:12:10.130597Z",
     "start_time": "2023-01-11T10:12:10.122891Z"
    },
    "hidden": true
   },
   "outputs": [
    {
     "data": {
      "text/plain": [
       "(5100, 200, 100)"
      ]
     },
     "execution_count": 44,
     "metadata": {},
     "output_type": "execute_result"
    }
   ],
   "source": [
    "X_train_pad.shape"
   ]
  },
  {
   "cell_type": "code",
   "execution_count": 46,
   "id": "4e23dc53",
   "metadata": {
    "ExecuteTime": {
     "end_time": "2023-01-11T10:17:36.006075Z",
     "start_time": "2023-01-11T10:12:28.678627Z"
    },
    "hidden": true
   },
   "outputs": [
    {
     "name": "stdout",
     "output_type": "stream",
     "text": [
      "Epoch 1/10\n",
      "319/319 [==============================] - 35s 98ms/step - loss: 0.6729 - accuracy: 0.5892\n",
      "Epoch 2/10\n",
      "319/319 [==============================] - 32s 99ms/step - loss: 0.6571 - accuracy: 0.6137\n",
      "Epoch 3/10\n",
      "319/319 [==============================] - 31s 97ms/step - loss: 0.6535 - accuracy: 0.6196\n",
      "Epoch 4/10\n",
      "319/319 [==============================] - 31s 98ms/step - loss: 0.6506 - accuracy: 0.6269\n",
      "Epoch 5/10\n",
      "319/319 [==============================] - 31s 97ms/step - loss: 0.6512 - accuracy: 0.6231\n",
      "Epoch 6/10\n",
      "319/319 [==============================] - 30s 96ms/step - loss: 0.6480 - accuracy: 0.6225\n",
      "Epoch 7/10\n",
      "319/319 [==============================] - 30s 94ms/step - loss: 0.6469 - accuracy: 0.6239\n",
      "Epoch 8/10\n",
      "319/319 [==============================] - 27s 85ms/step - loss: 0.6440 - accuracy: 0.6296\n",
      "Epoch 9/10\n",
      "319/319 [==============================] - 31s 96ms/step - loss: 0.6426 - accuracy: 0.6280\n",
      "Epoch 10/10\n",
      "319/319 [==============================] - 29s 92ms/step - loss: 0.6400 - accuracy: 0.6335\n"
     ]
    },
    {
     "data": {
      "text/plain": [
       "<keras.callbacks.History at 0x7fa67c33ff40>"
      ]
     },
     "execution_count": 46,
     "metadata": {},
     "output_type": "execute_result"
    }
   ],
   "source": [
    "from tensorflow.keras import callbacks\n",
    "es = callbacks.EarlyStopping(patience=3,restore_best_weights=True)\n",
    "\n",
    "rnn.fit(X_train_pad, y_train, epochs=10, batch_size=16, verbose=1)\n"
   ]
  },
  {
   "cell_type": "code",
   "execution_count": 47,
   "id": "7a325c7b",
   "metadata": {
    "ExecuteTime": {
     "end_time": "2023-01-11T10:18:38.388631Z",
     "start_time": "2023-01-11T10:18:35.107713Z"
    },
    "hidden": true
   },
   "outputs": [
    {
     "name": "stdout",
     "output_type": "stream",
     "text": [
      "79/79 [==============================] - 3s 26ms/step - loss: 0.6501 - accuracy: 0.6220\n"
     ]
    },
    {
     "data": {
      "text/plain": [
       "[0.6500754952430725, 0.621965765953064]"
      ]
     },
     "execution_count": 47,
     "metadata": {},
     "output_type": "execute_result"
    }
   ],
   "source": [
    "rnn.evaluate(X_test_pad, y_test)"
   ]
  },
  {
   "cell_type": "markdown",
   "id": "779aea5b",
   "metadata": {
    "hidden": true
   },
   "source": [
    "**Pas besoin de préproc en Deep ?**"
   ]
  },
  {
   "cell_type": "markdown",
   "id": "5cb870d6",
   "metadata": {},
   "source": [
    "# Modele Conv1D (tokenize)"
   ]
  },
  {
   "cell_type": "code",
   "execution_count": 54,
   "id": "4618b4cc",
   "metadata": {
    "ExecuteTime": {
     "end_time": "2023-01-11T10:31:28.777931Z",
     "start_time": "2023-01-11T10:31:28.205990Z"
    }
   },
   "outputs": [
    {
     "data": {
      "text/plain": [
       "14630"
      ]
     },
     "execution_count": 54,
     "metadata": {},
     "output_type": "execute_result"
    }
   ],
   "source": [
    "from tensorflow.keras.preprocessing.text import Tokenizer\n",
    "from tensorflow.keras.preprocessing.sequence import pad_sequences\n",
    "\n",
    "tokenizer = Tokenizer()\n",
    "tokenizer.fit_on_texts(X_train)\n",
    "    \n",
    "# We apply the tokenization to the train and test set\n",
    "X_train_token = tokenizer.texts_to_sequences(X_train)\n",
    "X_test_token = tokenizer.texts_to_sequences(X_test)\n",
    "\n",
    "\n",
    "X_train_pad = pad_sequences(X_train_token, maxlen=150, dtype='float32')\n",
    "X_test_pad = pad_sequences(X_test_token, maxlen=150, dtype='float32')\n",
    "\n",
    "vocab_size = len(tokenizer.word_index)\n",
    "vocab_size"
   ]
  },
  {
   "cell_type": "code",
   "execution_count": 59,
   "id": "83a44c23",
   "metadata": {
    "ExecuteTime": {
     "end_time": "2023-01-11T10:33:21.630316Z",
     "start_time": "2023-01-11T10:33:21.528744Z"
    }
   },
   "outputs": [],
   "source": [
    "def init_cnn_model(vocab_size):\n",
    "    model = Sequential()\n",
    "    model.add(layers.Embedding(input_dim=vocab_size + 1, output_dim=100, mask_zero=True, input_length=150))\n",
    "    model.add(layers.Conv1D(16, 3))\n",
    "    model.add(layers.Flatten())\n",
    "    model.add(layers.Dense(5,))\n",
    "    model.add(layers.Dense(1, activation='sigmoid'))\n",
    "\n",
    "    model.compile(loss='binary_crossentropy', optimizer='adam', metrics=['accuracy'])\n",
    "    return model\n",
    "\n",
    "model_cnn = init_cnn_model(vocab_size)"
   ]
  },
  {
   "cell_type": "code",
   "execution_count": 60,
   "id": "19b53173",
   "metadata": {
    "ExecuteTime": {
     "end_time": "2023-01-11T10:33:22.251059Z",
     "start_time": "2023-01-11T10:33:22.215758Z"
    }
   },
   "outputs": [
    {
     "name": "stdout",
     "output_type": "stream",
     "text": [
      "Model: \"sequential_7\"\n",
      "_________________________________________________________________\n",
      " Layer (type)                Output Shape              Param #   \n",
      "=================================================================\n",
      " embedding_1 (Embedding)     (None, 150, 100)          1463100   \n",
      "                                                                 \n",
      " conv1d_1 (Conv1D)           (None, 148, 16)           4816      \n",
      "                                                                 \n",
      " flatten_1 (Flatten)         (None, 2368)              0         \n",
      "                                                                 \n",
      " dense_6 (Dense)             (None, 5)                 11845     \n",
      "                                                                 \n",
      " dense_7 (Dense)             (None, 1)                 6         \n",
      "                                                                 \n",
      "=================================================================\n",
      "Total params: 1,479,767\n",
      "Trainable params: 1,479,767\n",
      "Non-trainable params: 0\n",
      "_________________________________________________________________\n"
     ]
    }
   ],
   "source": [
    "model_cnn.summary()"
   ]
  },
  {
   "cell_type": "code",
   "execution_count": 61,
   "id": "932877e3",
   "metadata": {
    "ExecuteTime": {
     "end_time": "2023-01-11T10:33:33.206180Z",
     "start_time": "2023-01-11T10:33:24.670780Z"
    }
   },
   "outputs": [
    {
     "name": "stdout",
     "output_type": "stream",
     "text": [
      "Epoch 1/20\n",
      "112/112 [==============================] - 2s 11ms/step - loss: 0.6327 - accuracy: 0.6373 - val_loss: 0.5016 - val_accuracy: 0.7641\n",
      "Epoch 2/20\n",
      "112/112 [==============================] - 1s 10ms/step - loss: 0.3273 - accuracy: 0.8611 - val_loss: 0.5008 - val_accuracy: 0.7699\n",
      "Epoch 3/20\n",
      "112/112 [==============================] - 1s 10ms/step - loss: 0.1013 - accuracy: 0.9675 - val_loss: 0.6036 - val_accuracy: 0.7680\n",
      "Epoch 4/20\n",
      "112/112 [==============================] - 1s 10ms/step - loss: 0.0380 - accuracy: 0.9885 - val_loss: 0.6961 - val_accuracy: 0.7379\n",
      "Epoch 5/20\n",
      "112/112 [==============================] - 1s 10ms/step - loss: 0.0225 - accuracy: 0.9933 - val_loss: 0.7191 - val_accuracy: 0.7667\n",
      "Epoch 6/20\n",
      "112/112 [==============================] - 1s 10ms/step - loss: 0.0210 - accuracy: 0.9947 - val_loss: 0.7152 - val_accuracy: 0.7608\n",
      "Epoch 7/20\n",
      "112/112 [==============================] - 1s 10ms/step - loss: 0.0179 - accuracy: 0.9947 - val_loss: 0.7722 - val_accuracy: 0.7771\n",
      "The accuracy evaluated on the test set is of 78.870%\n"
     ]
    }
   ],
   "source": [
    "from tensorflow.keras.callbacks import EarlyStopping\n",
    "\n",
    "es = EarlyStopping(patience=5, restore_best_weights=True)\n",
    "\n",
    "model_cnn.fit(X_train_pad, y_train, \n",
    "          epochs=20, \n",
    "          batch_size=32,\n",
    "          validation_split=0.3,\n",
    "          callbacks=[es]\n",
    "         )\n",
    "\n",
    "\n",
    "res = model_cnn.evaluate(X_test_pad, y_test, verbose=0)\n",
    "\n",
    "print(f'The accuracy evaluated on the test set is of {res[1]*100:.3f}%')"
   ]
  },
  {
   "cell_type": "markdown",
   "id": "5a59d193",
   "metadata": {},
   "source": [
    "## modele Conv1D (Word2vec)"
   ]
  },
  {
   "cell_type": "code",
   "execution_count": null,
   "id": "33dd0f15",
   "metadata": {},
   "outputs": [],
   "source": []
  }
 ],
 "metadata": {
  "kernelspec": {
   "display_name": "Python 3 (ipykernel)",
   "language": "python",
   "name": "python3"
  },
  "language_info": {
   "codemirror_mode": {
    "name": "ipython",
    "version": 3
   },
   "file_extension": ".py",
   "mimetype": "text/x-python",
   "name": "python",
   "nbconvert_exporter": "python",
   "pygments_lexer": "ipython3",
   "version": "3.10.6"
  },
  "toc": {
   "base_numbering": 1,
   "nav_menu": {},
   "number_sections": true,
   "sideBar": true,
   "skip_h1_title": false,
   "title_cell": "Table of Contents",
   "title_sidebar": "Contents",
   "toc_cell": false,
   "toc_position": {},
   "toc_section_display": true,
   "toc_window_display": false
  }
 },
 "nbformat": 4,
 "nbformat_minor": 5
}
