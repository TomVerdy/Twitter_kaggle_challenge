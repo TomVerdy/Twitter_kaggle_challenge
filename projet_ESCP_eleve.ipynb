{
  "nbformat": 4,
  "nbformat_minor": 0,
  "metadata": {
    "colab": {
      "provenance": [],
      "authorship_tag": "ABX9TyMNZUVDVL4RNC+nnaRfjszX",
      "include_colab_link": true
    },
    "kernelspec": {
      "name": "python3",
      "display_name": "Python 3"
    },
    "language_info": {
      "name": "python"
    }
  },
  "cells": [
    {
      "cell_type": "markdown",
      "metadata": {
        "id": "view-in-github",
        "colab_type": "text"
      },
      "source": [
        "<a href=\"https://colab.research.google.com/github/TomVerdy/Twitter_kaggle_challenge/blob/main/projet_ESCP_eleve.ipynb\" target=\"_parent\"><img src=\"https://colab.research.google.com/assets/colab-badge.svg\" alt=\"Open In Colab\"/></a>"
      ]
    },
    {
      "cell_type": "code",
      "execution_count": 19,
      "metadata": {
        "colab": {
          "base_uri": "https://localhost:8080/"
        },
        "id": "lRB0Cwv7A87r",
        "outputId": "7df27cb0-197d-498c-df69-af53c57851ad"
      },
      "outputs": [
        {
          "output_type": "stream",
          "name": "stdout",
          "text": [
            "Bienvenu dans notre jeu de bataille Naval\n",
            "Nom du joueur ?tom\n",
            "tom : C'est le moment de placer les bateaux\n",
            "Quelle abscisse pour le premier bateau ?1\n",
            "Quelle ordonnée pour le premier bateau ?1\n",
            "Quelle direction ? possibilité : haut, bas, gauche, droitedroite\n",
            "2\n",
            "1\n"
          ]
        }
      ],
      "source": [
        "class Cellule:\n",
        "\n",
        "  def __init__(self,x,y):\n",
        "    self.x = x\n",
        "    self.y = y\n",
        "    self.occupe = None \n",
        "\n",
        "\n",
        "class Game:\n",
        "\n",
        "  def __init__(self):\n",
        "    # on crée une liste vite au moment de créer l'objet jeu => la fonction create_grid va creer les cellules et les ajouter à cette liste\n",
        "    self.name_player = None\n",
        "    self.list_cell = []\n",
        "    self.create_grid()\n",
        "    self.welcome()\n",
        "    self.game_begin()\n",
        "    \n",
        "  def create_grid(self):\n",
        "    for i in range(0,5):\n",
        "      for j in range(0,5):\n",
        "        self.list_cell.append(Cellule(i+1,j+1))\n",
        "    \n",
        "  def welcome(self):\n",
        "    print(\"Bienvenu dans notre jeu de bataille Naval\")\n",
        "    self.name_player = input(\"Nom du joueur ?\")\n",
        "    \n",
        "  def game_begin(self):\n",
        "    print(self.name_player + \" : C'est le moment de placer les bateaux\")\n",
        "    \n",
        "    x1 = int(input(\"Quelle abscisse pour le premier bateau ?\"))\n",
        "    y1 = int(input(\"Quelle ordonnée pour le premier bateau ?\"))\n",
        "\n",
        "    test_bateau = False\n",
        "\n",
        "    while test_bateau == False :\n",
        "      direction = input(\"Quelle direction ? possibilité : haut, bas, gauche, droite\")\n",
        "  \n",
        "      if direction == \"bas\":\n",
        "        x2 = x1\n",
        "        y2 = y1 - 1\n",
        "\n",
        "      if direction == \"haut\":\n",
        "        x2 = x1\n",
        "        y2 = y1 + 1\n",
        "\n",
        "      if direction == \"gauche\":\n",
        "        x2 = x1 -1\n",
        "        y2 = y1\n",
        "\n",
        "      if direction == \"droite\":\n",
        "        x2 = x1 +1\n",
        "        y2 = y1\n",
        "      \n",
        "      print(x2)\n",
        "      print(y2)\n",
        "\n",
        "      if y2 > 5 or y2 <= 0 or x2 > 5 or x2 <= 0 :\n",
        "        print(\"Le bateau dépasse du cadre\")\n",
        "      else:\n",
        "        test_bateau = True\n",
        "      \n",
        "    rank_1 = (x1-1*5) + y1-1\n",
        "    rank_2 = (x2-1*5) + y2-1\n",
        "    self.list_cell[rank_1].occupe = True\n",
        "    self.list_cell[rank_2].occupe = True\n",
        "\n",
        "\n",
        "\n",
        "\n",
        "\n",
        "\n",
        "the_game = Game()"
      ]
    }
  ]
}